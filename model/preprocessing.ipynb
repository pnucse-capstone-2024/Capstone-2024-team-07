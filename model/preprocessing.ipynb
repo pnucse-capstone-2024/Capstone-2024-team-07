{
  "cells": [
    {
      "cell_type": "markdown",
      "metadata": {
        "id": "t9fByx5Cy477"
      },
      "source": [
        "## 라이브러리 설치"
      ]
    },
    {
      "cell_type": "code",
      "execution_count": null,
      "metadata": {
        "id": "wkKfBc2H7lSZ"
      },
      "outputs": [],
      "source": [
        "# torch, torch-geometric 설치\n",
        "!pip install torch\n",
        "!pip install torch-geometric"
      ]
    },
    {
      "cell_type": "code",
      "execution_count": null,
      "metadata": {
        "colab": {
          "base_uri": "https://localhost:8080/"
        },
        "id": "SmG0EYleQIWL",
        "outputId": "14075a85-a734-48a5-c21e-ea632ec28e93"
      },
      "outputs": [
        {
          "output_type": "stream",
          "name": "stdout",
          "text": [
            "Mounted at /content/drive\n"
          ]
        }
      ],
      "source": [
        "from google.colab import drive\n",
        "drive.mount('/content/drive')"
      ]
    },
    {
      "cell_type": "markdown",
      "metadata": {
        "id": "DaL6MSKxzTR2"
      },
      "source": [
        "## 데이터 생성 및 정제"
      ]
    },
    {
      "cell_type": "code",
      "execution_count": null,
      "metadata": {
        "id": "vwAB0Ok_zsV9",
        "colab": {
          "base_uri": "https://localhost:8080/"
        },
        "outputId": "a350feab-e308-42cf-e4e2-0d651f0492b8"
      },
      "outputs": [
        {
          "output_type": "execute_result",
          "data": {
            "text/plain": [
              "<torch._C.Generator at 0x78c59af8b3b0>"
            ]
          },
          "metadata": {},
          "execution_count": 13
        }
      ],
      "source": [
        "import pandas as pd\n",
        "from sklearn.preprocessing import StandardScaler, MultiLabelBinarizer, LabelEncoder\n",
        "import torch\n",
        "import numpy as np\n",
        "import random\n",
        "from sklearn.decomposition import PCA\n",
        "import torch.nn as nn\n",
        "\n",
        "data_path = \"/content/drive/MyDrive/졸업과제/\""
      ]
    },
    {
      "cell_type": "code",
      "execution_count": null,
      "metadata": {
        "colab": {
          "base_uri": "https://localhost:8080/"
        },
        "id": "KN2mYH-o25YW",
        "outputId": "de6554f8-9b10-49a4-df2e-38738eb70b8e"
      },
      "outputs": [
        {
          "output_type": "stream",
          "name": "stdout",
          "text": [
            "torch.Size([30170, 32])\n"
          ]
        },
        {
          "output_type": "execute_result",
          "data": {
            "text/plain": [
              "tensor([[ 1.7799,  0.4415,  0.4455,  ..., -0.8268,  0.5288, -0.0216],\n",
              "        [ 1.7306,  0.2946,  0.3218,  ..., -0.5721,  0.2983,  0.0983],\n",
              "        [ 0.7537,  0.0370,  0.4281,  ..., -0.0061, -0.1724,  0.2426],\n",
              "        ...,\n",
              "        [ 0.4854,  1.2313,  0.2207,  ...,  0.5290,  0.3875, -0.3897],\n",
              "        [ 0.4340,  0.4871, -0.4240,  ...,  0.9361, -0.4820,  0.0177],\n",
              "        [-0.1359,  0.1914, -0.3831,  ...,  0.7107, -0.5230, -0.0368]],\n",
              "       grad_fn=<AddmmBackward0>)"
            ]
          },
          "metadata": {},
          "execution_count": 23
        }
      ],
      "source": [
        "# 랜덤 시드 설정 - 고정\n",
        "random.seed(42)\n",
        "np.random.seed(42)\n",
        "torch.manual_seed(42)\n",
        "\n",
        "# 데이터 로드\n",
        "disease = pd.read_csv(data_path + \"disease_associations.csv\")\n",
        "\n",
        "# 불필요한 열 제거 및 결측치 처리\n",
        "del disease[\"diseaseName\"]\n",
        "disease['diseaseClass'] = disease[\"diseaseClass\"].fillna(\"\").str.split(\";\")\n",
        "disease = disease.fillna(\"None\")\n",
        "\n",
        "# \"diseaseClass\" one-hot encoding\n",
        "mlb = MultiLabelBinarizer()\n",
        "one_hot_encoded = mlb.fit_transform(disease['diseaseClass'])\n",
        "\n",
        "# PCA로 차원 축소\n",
        "pca = PCA(n_components=2)\n",
        "disease_class_feature = pca.fit_transform(one_hot_encoded)\n",
        "disease_class_feature = pd.DataFrame(disease_class_feature)\n",
        "\n",
        "# 다른 features Label Encoding 처리\n",
        "features = [\"diseaseType\", \"diseaseSemanticType\"]\n",
        "for feature in features:\n",
        "    le = LabelEncoder()\n",
        "    le = le.fit(disease[feature])\n",
        "    disease[feature] = le.transform(disease[feature])\n",
        "\n",
        "# diseaseId 제거\n",
        "disease_id = disease[\"diseaseId\"]\n",
        "del disease[\"diseaseId\"]\n",
        "del disease['diseaseClass']\n",
        "\n",
        "# PCA로 변환된 데이터와 병합\n",
        "disease = pd.concat([disease, disease_class_feature], axis=1)\n",
        "\n",
        "# 정규화 추가\n",
        "scaler = StandardScaler()\n",
        "disease_features = scaler.fit_transform(disease.values)\n",
        "\n",
        "# Tensor 변환 및 선형 레이어 적용\n",
        "data = torch.Tensor(disease_features)\n",
        "linear_layer = nn.Linear(data.shape[1], 32)\n",
        "\n",
        "transformed_disease = linear_layer(data)\n",
        "print(transformed_disease.shape)\n",
        "transformed_disease"
      ]
    },
    {
      "cell_type": "code",
      "execution_count": null,
      "metadata": {
        "colab": {
          "base_uri": "https://localhost:8080/"
        },
        "id": "0bxQvs5-26od",
        "outputId": "bad5d015-87b5-42ee-8a11-df9e0867554c"
      },
      "outputs": [
        {
          "output_type": "stream",
          "name": "stdout",
          "text": [
            "torch.Size([15576, 32])\n"
          ]
        },
        {
          "output_type": "execute_result",
          "data": {
            "text/plain": [
              "tensor([[ 0.4896, -0.2769, -0.2458,  ..., -0.1716, -0.1194, -0.0749],\n",
              "        [ 0.8209, -0.2826, -0.4765,  ...,  0.2271, -0.6244,  0.5758],\n",
              "        [ 0.8902, -0.4218, -0.4196,  ...,  0.2182, -0.5978,  0.5917],\n",
              "        ...,\n",
              "        [ 0.1807,  0.2722,  0.2255,  ..., -0.4707,  0.4644, -1.0204],\n",
              "        [ 0.7946, -0.4395, -0.3942,  ...,  0.1369, -0.5027,  0.4575],\n",
              "        [ 0.2656,  0.1882,  0.1700,  ..., -0.5075,  0.4421, -1.0164]],\n",
              "       grad_fn=<AddmmBackward0>)"
            ]
          },
          "metadata": {},
          "execution_count": 24
        }
      ],
      "source": [
        "# 랜덤 시드 설정 - 고정\n",
        "random.seed(42)\n",
        "np.random.seed(42)\n",
        "torch.manual_seed(42)\n",
        "\n",
        "# 데이터 로드\n",
        "gene = pd.read_csv(data_path + \"gene_associations.csv\")\n",
        "\n",
        "# 불필요한 열 제거\n",
        "del gene[\"geneSymbol\"], gene[\"protein_class_name\"], gene[\"protein_class\"]\n",
        "\n",
        "# geneId를 문자열로 변환\n",
        "gene[\"geneId\"] = gene[\"geneId\"].apply(str)\n",
        "\n",
        "# \"DSI\", \"DPI\", \"PLI\" 결측치가 있는 행 제거\n",
        "gene = gene.dropna(subset=[\"DSI\", \"DPI\", \"PLI\"]).reset_index(drop=True)\n",
        "\n",
        "# geneId 열 제거\n",
        "gene_id = gene[\"geneId\"]\n",
        "del gene[\"geneId\"]\n",
        "\n",
        "# 정규화 추가 (StandardScaler)\n",
        "scaler = StandardScaler()\n",
        "gene_features = scaler.fit_transform(gene.values)\n",
        "\n",
        "data = torch.Tensor(gene_features)\n",
        "linear_layer = nn.Linear(data.shape[1], 32)\n",
        "\n",
        "transformed_gene = linear_layer(data)\n",
        "print(transformed_gene.shape)\n",
        "transformed_gene"
      ]
    },
    {
      "cell_type": "code",
      "execution_count": null,
      "metadata": {
        "id": "1EusCMyRpogz",
        "colab": {
          "base_uri": "https://localhost:8080/",
          "height": 206
        },
        "outputId": "cce9d00d-4da0-4692-933f-f686372651a3"
      },
      "outputs": [
        {
          "output_type": "execute_result",
          "data": {
            "text/plain": [
              "  geneId diseaseId\n",
              "0      1  C0019209\n",
              "1      1  C0036341\n",
              "2      2  C0002395\n",
              "3      2  C0011570\n",
              "5      2  C0027726"
            ],
            "text/html": [
              "\n",
              "  <div id=\"df-5e2bddc7-1dfe-4ab0-a67e-29592a8492ff\" class=\"colab-df-container\">\n",
              "    <div>\n",
              "<style scoped>\n",
              "    .dataframe tbody tr th:only-of-type {\n",
              "        vertical-align: middle;\n",
              "    }\n",
              "\n",
              "    .dataframe tbody tr th {\n",
              "        vertical-align: top;\n",
              "    }\n",
              "\n",
              "    .dataframe thead th {\n",
              "        text-align: right;\n",
              "    }\n",
              "</style>\n",
              "<table border=\"1\" class=\"dataframe\">\n",
              "  <thead>\n",
              "    <tr style=\"text-align: right;\">\n",
              "      <th></th>\n",
              "      <th>geneId</th>\n",
              "      <th>diseaseId</th>\n",
              "    </tr>\n",
              "  </thead>\n",
              "  <tbody>\n",
              "    <tr>\n",
              "      <th>0</th>\n",
              "      <td>1</td>\n",
              "      <td>C0019209</td>\n",
              "    </tr>\n",
              "    <tr>\n",
              "      <th>1</th>\n",
              "      <td>1</td>\n",
              "      <td>C0036341</td>\n",
              "    </tr>\n",
              "    <tr>\n",
              "      <th>2</th>\n",
              "      <td>2</td>\n",
              "      <td>C0002395</td>\n",
              "    </tr>\n",
              "    <tr>\n",
              "      <th>3</th>\n",
              "      <td>2</td>\n",
              "      <td>C0011570</td>\n",
              "    </tr>\n",
              "    <tr>\n",
              "      <th>5</th>\n",
              "      <td>2</td>\n",
              "      <td>C0027726</td>\n",
              "    </tr>\n",
              "  </tbody>\n",
              "</table>\n",
              "</div>\n",
              "    <div class=\"colab-df-buttons\">\n",
              "\n",
              "  <div class=\"colab-df-container\">\n",
              "    <button class=\"colab-df-convert\" onclick=\"convertToInteractive('df-5e2bddc7-1dfe-4ab0-a67e-29592a8492ff')\"\n",
              "            title=\"Convert this dataframe to an interactive table.\"\n",
              "            style=\"display:none;\">\n",
              "\n",
              "  <svg xmlns=\"http://www.w3.org/2000/svg\" height=\"24px\" viewBox=\"0 -960 960 960\">\n",
              "    <path d=\"M120-120v-720h720v720H120Zm60-500h600v-160H180v160Zm220 220h160v-160H400v160Zm0 220h160v-160H400v160ZM180-400h160v-160H180v160Zm440 0h160v-160H620v160ZM180-180h160v-160H180v160Zm440 0h160v-160H620v160Z\"/>\n",
              "  </svg>\n",
              "    </button>\n",
              "\n",
              "  <style>\n",
              "    .colab-df-container {\n",
              "      display:flex;\n",
              "      gap: 12px;\n",
              "    }\n",
              "\n",
              "    .colab-df-convert {\n",
              "      background-color: #E8F0FE;\n",
              "      border: none;\n",
              "      border-radius: 50%;\n",
              "      cursor: pointer;\n",
              "      display: none;\n",
              "      fill: #1967D2;\n",
              "      height: 32px;\n",
              "      padding: 0 0 0 0;\n",
              "      width: 32px;\n",
              "    }\n",
              "\n",
              "    .colab-df-convert:hover {\n",
              "      background-color: #E2EBFA;\n",
              "      box-shadow: 0px 1px 2px rgba(60, 64, 67, 0.3), 0px 1px 3px 1px rgba(60, 64, 67, 0.15);\n",
              "      fill: #174EA6;\n",
              "    }\n",
              "\n",
              "    .colab-df-buttons div {\n",
              "      margin-bottom: 4px;\n",
              "    }\n",
              "\n",
              "    [theme=dark] .colab-df-convert {\n",
              "      background-color: #3B4455;\n",
              "      fill: #D2E3FC;\n",
              "    }\n",
              "\n",
              "    [theme=dark] .colab-df-convert:hover {\n",
              "      background-color: #434B5C;\n",
              "      box-shadow: 0px 1px 3px 1px rgba(0, 0, 0, 0.15);\n",
              "      filter: drop-shadow(0px 1px 2px rgba(0, 0, 0, 0.3));\n",
              "      fill: #FFFFFF;\n",
              "    }\n",
              "  </style>\n",
              "\n",
              "    <script>\n",
              "      const buttonEl =\n",
              "        document.querySelector('#df-5e2bddc7-1dfe-4ab0-a67e-29592a8492ff button.colab-df-convert');\n",
              "      buttonEl.style.display =\n",
              "        google.colab.kernel.accessAllowed ? 'block' : 'none';\n",
              "\n",
              "      async function convertToInteractive(key) {\n",
              "        const element = document.querySelector('#df-5e2bddc7-1dfe-4ab0-a67e-29592a8492ff');\n",
              "        const dataTable =\n",
              "          await google.colab.kernel.invokeFunction('convertToInteractive',\n",
              "                                                    [key], {});\n",
              "        if (!dataTable) return;\n",
              "\n",
              "        const docLinkHtml = 'Like what you see? Visit the ' +\n",
              "          '<a target=\"_blank\" href=https://colab.research.google.com/notebooks/data_table.ipynb>data table notebook</a>'\n",
              "          + ' to learn more about interactive tables.';\n",
              "        element.innerHTML = '';\n",
              "        dataTable['output_type'] = 'display_data';\n",
              "        await google.colab.output.renderOutput(dataTable, element);\n",
              "        const docLink = document.createElement('div');\n",
              "        docLink.innerHTML = docLinkHtml;\n",
              "        element.appendChild(docLink);\n",
              "      }\n",
              "    </script>\n",
              "  </div>\n",
              "\n",
              "\n",
              "<div id=\"df-ad60db77-6622-4c3c-9b81-0db3899b43f5\">\n",
              "  <button class=\"colab-df-quickchart\" onclick=\"quickchart('df-ad60db77-6622-4c3c-9b81-0db3899b43f5')\"\n",
              "            title=\"Suggest charts\"\n",
              "            style=\"display:none;\">\n",
              "\n",
              "<svg xmlns=\"http://www.w3.org/2000/svg\" height=\"24px\"viewBox=\"0 0 24 24\"\n",
              "     width=\"24px\">\n",
              "    <g>\n",
              "        <path d=\"M19 3H5c-1.1 0-2 .9-2 2v14c0 1.1.9 2 2 2h14c1.1 0 2-.9 2-2V5c0-1.1-.9-2-2-2zM9 17H7v-7h2v7zm4 0h-2V7h2v10zm4 0h-2v-4h2v4z\"/>\n",
              "    </g>\n",
              "</svg>\n",
              "  </button>\n",
              "\n",
              "<style>\n",
              "  .colab-df-quickchart {\n",
              "      --bg-color: #E8F0FE;\n",
              "      --fill-color: #1967D2;\n",
              "      --hover-bg-color: #E2EBFA;\n",
              "      --hover-fill-color: #174EA6;\n",
              "      --disabled-fill-color: #AAA;\n",
              "      --disabled-bg-color: #DDD;\n",
              "  }\n",
              "\n",
              "  [theme=dark] .colab-df-quickchart {\n",
              "      --bg-color: #3B4455;\n",
              "      --fill-color: #D2E3FC;\n",
              "      --hover-bg-color: #434B5C;\n",
              "      --hover-fill-color: #FFFFFF;\n",
              "      --disabled-bg-color: #3B4455;\n",
              "      --disabled-fill-color: #666;\n",
              "  }\n",
              "\n",
              "  .colab-df-quickchart {\n",
              "    background-color: var(--bg-color);\n",
              "    border: none;\n",
              "    border-radius: 50%;\n",
              "    cursor: pointer;\n",
              "    display: none;\n",
              "    fill: var(--fill-color);\n",
              "    height: 32px;\n",
              "    padding: 0;\n",
              "    width: 32px;\n",
              "  }\n",
              "\n",
              "  .colab-df-quickchart:hover {\n",
              "    background-color: var(--hover-bg-color);\n",
              "    box-shadow: 0 1px 2px rgba(60, 64, 67, 0.3), 0 1px 3px 1px rgba(60, 64, 67, 0.15);\n",
              "    fill: var(--button-hover-fill-color);\n",
              "  }\n",
              "\n",
              "  .colab-df-quickchart-complete:disabled,\n",
              "  .colab-df-quickchart-complete:disabled:hover {\n",
              "    background-color: var(--disabled-bg-color);\n",
              "    fill: var(--disabled-fill-color);\n",
              "    box-shadow: none;\n",
              "  }\n",
              "\n",
              "  .colab-df-spinner {\n",
              "    border: 2px solid var(--fill-color);\n",
              "    border-color: transparent;\n",
              "    border-bottom-color: var(--fill-color);\n",
              "    animation:\n",
              "      spin 1s steps(1) infinite;\n",
              "  }\n",
              "\n",
              "  @keyframes spin {\n",
              "    0% {\n",
              "      border-color: transparent;\n",
              "      border-bottom-color: var(--fill-color);\n",
              "      border-left-color: var(--fill-color);\n",
              "    }\n",
              "    20% {\n",
              "      border-color: transparent;\n",
              "      border-left-color: var(--fill-color);\n",
              "      border-top-color: var(--fill-color);\n",
              "    }\n",
              "    30% {\n",
              "      border-color: transparent;\n",
              "      border-left-color: var(--fill-color);\n",
              "      border-top-color: var(--fill-color);\n",
              "      border-right-color: var(--fill-color);\n",
              "    }\n",
              "    40% {\n",
              "      border-color: transparent;\n",
              "      border-right-color: var(--fill-color);\n",
              "      border-top-color: var(--fill-color);\n",
              "    }\n",
              "    60% {\n",
              "      border-color: transparent;\n",
              "      border-right-color: var(--fill-color);\n",
              "    }\n",
              "    80% {\n",
              "      border-color: transparent;\n",
              "      border-right-color: var(--fill-color);\n",
              "      border-bottom-color: var(--fill-color);\n",
              "    }\n",
              "    90% {\n",
              "      border-color: transparent;\n",
              "      border-bottom-color: var(--fill-color);\n",
              "    }\n",
              "  }\n",
              "</style>\n",
              "\n",
              "  <script>\n",
              "    async function quickchart(key) {\n",
              "      const quickchartButtonEl =\n",
              "        document.querySelector('#' + key + ' button');\n",
              "      quickchartButtonEl.disabled = true;  // To prevent multiple clicks.\n",
              "      quickchartButtonEl.classList.add('colab-df-spinner');\n",
              "      try {\n",
              "        const charts = await google.colab.kernel.invokeFunction(\n",
              "            'suggestCharts', [key], {});\n",
              "      } catch (error) {\n",
              "        console.error('Error during call to suggestCharts:', error);\n",
              "      }\n",
              "      quickchartButtonEl.classList.remove('colab-df-spinner');\n",
              "      quickchartButtonEl.classList.add('colab-df-quickchart-complete');\n",
              "    }\n",
              "    (() => {\n",
              "      let quickchartButtonEl =\n",
              "        document.querySelector('#df-ad60db77-6622-4c3c-9b81-0db3899b43f5 button');\n",
              "      quickchartButtonEl.style.display =\n",
              "        google.colab.kernel.accessAllowed ? 'block' : 'none';\n",
              "    })();\n",
              "  </script>\n",
              "</div>\n",
              "\n",
              "    </div>\n",
              "  </div>\n"
            ],
            "application/vnd.google.colaboratory.intrinsic+json": {
              "type": "dataframe",
              "variable_name": "gda",
              "summary": "{\n  \"name\": \"gda\",\n  \"rows\": 74775,\n  \"fields\": [\n    {\n      \"column\": \"geneId\",\n      \"properties\": {\n        \"dtype\": \"category\",\n        \"num_unique_values\": 9977,\n        \"samples\": [\n          \"23066\",\n          \"10198\",\n          \"23498\"\n        ],\n        \"semantic_type\": \"\",\n        \"description\": \"\"\n      }\n    },\n    {\n      \"column\": \"diseaseId\",\n      \"properties\": {\n        \"dtype\": \"category\",\n        \"num_unique_values\": 11084,\n        \"samples\": [\n          \"C0342200\",\n          \"C2584774\",\n          \"C1858516\"\n        ],\n        \"semantic_type\": \"\",\n        \"description\": \"\"\n      }\n    }\n  ]\n}"
            }
          },
          "metadata": {},
          "execution_count": 28
        }
      ],
      "source": [
        "# gda\n",
        "gda_0 = pd.read_csv(data_path + \"gda_0.csv\")\n",
        "gda_1 = pd.read_csv(data_path + \"gda_1.csv\")\n",
        "gda_2 = pd.read_csv(data_path + \"gda_2.csv\")\n",
        "gda_3 = pd.read_csv(data_path + \"gda_3.csv\")\n",
        "df_list = [gda_0, gda_1, gda_2, gda_3]\n",
        "gda = pd.concat(df_list, ignore_index=True)\n",
        "\n",
        "gda[\"geneNcbiID\"] = gda[\"geneNcbiID\"].apply(str)\n",
        "gda = gda[gda['geneNcbiID'].isin(gene_id)]\n",
        "gda = gda[gda['diseaseUMLSCUI'].isin(disease_id)]\n",
        "\n",
        "gda = gda.drop_duplicates([\"geneNcbiID\", \"diseaseUMLSCUI\"])\n",
        "gda.columns = [\"geneId\", \"diseaseId\"]\n",
        "\n",
        "gda.head()"
      ]
    },
    {
      "cell_type": "code",
      "execution_count": null,
      "metadata": {
        "id": "I7NG7xGU76wM"
      },
      "outputs": [],
      "source": [
        "# id와 병합\n",
        "disease = pd.concat([disease_id, pd.DataFrame(transformed_disease.detach().numpy())], axis=1)\n",
        "gene = pd.concat([gene_id, pd.DataFrame(transformed_gene.detach().numpy())], axis=1)"
      ]
    },
    {
      "cell_type": "code",
      "execution_count": null,
      "metadata": {
        "id": "R5qOOZ7Imc28"
      },
      "outputs": [],
      "source": [
        "# dataframe -> csv\n",
        "gene.to_csv(\"gene_processed.csv\", index=False)\n",
        "disease.to_csv(\"disease_processed.csv\", index=False)\n",
        "gda.to_csv(\"gda_processed.csv\", index=False)"
      ]
    }
  ],
  "metadata": {
    "colab": {
      "provenance": []
    },
    "kernelspec": {
      "display_name": "Python 3",
      "name": "python3"
    },
    "language_info": {
      "name": "python"
    }
  },
  "nbformat": 4,
  "nbformat_minor": 0
}